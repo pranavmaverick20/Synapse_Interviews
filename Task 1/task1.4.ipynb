{
 "cells": [
  {
   "cell_type": "code",
   "execution_count": 1,
   "metadata": {},
   "outputs": [],
   "source": [
    "customers = [[5, 2],\n",
    "             [5, 4],\n",
    "             [10, 3],\n",
    "             [20, 1],]\n",
    "\n",
    "# NOT TO SELF: ALWAYS DO DRY RUN"
   ]
  },
  {
   "cell_type": "code",
   "execution_count": 2,
   "metadata": {},
   "outputs": [],
   "source": [
    "def calcAverageWaitTime(customers):\n",
    "    curr_time = 0\n",
    "    wait_sum = 0\n",
    "    for c in customers:\n",
    "        arrival_time = c[0]\n",
    "        preparation_time = c[1]\n",
    "        if (curr_time < arrival_time):  # this is for scenario 1 and 4\n",
    "            curr_time = arrival_time\n",
    "        curr_time += preparation_time\n",
    "        wait_time = curr_time-arrival_time\n",
    "        wait_sum += wait_time\n",
    "    avg = wait_sum/len(customers) #avergage comes from total number of customers\n",
    "    return avg # this returns average value"
   ]
  },
  {
   "cell_type": "code",
   "execution_count": 3,
   "metadata": {},
   "outputs": [
    {
     "name": "stdout",
     "output_type": "stream",
     "text": [
      "Input: [[5, 2], [5, 4], [10, 3], [20, 1]]\n",
      "Output: 3.25\n"
     ]
    }
   ],
   "source": [
    "print(\"Input:\",customers)\n",
    "print(\"Output:\",calcAverageWaitTime(customers))"
   ]
  }
 ],
 "metadata": {
  "kernelspec": {
   "display_name": "Python 3",
   "language": "python",
   "name": "python3"
  },
  "language_info": {
   "codemirror_mode": {
    "name": "ipython",
    "version": 3
   },
   "file_extension": ".py",
   "mimetype": "text/x-python",
   "name": "python",
   "nbconvert_exporter": "python",
   "pygments_lexer": "ipython3",
   "version": "3.12.4"
  }
 },
 "nbformat": 4,
 "nbformat_minor": 2
}
