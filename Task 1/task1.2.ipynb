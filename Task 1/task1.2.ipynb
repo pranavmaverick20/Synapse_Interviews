{
 "cells": [
  {
   "cell_type": "code",
   "execution_count": 1,
   "metadata": {},
   "outputs": [],
   "source": [
    "gadgets = [\n",
    "    (\"Explosive Batarangs\", 3, True),\n",
    "    (\"Batarangs\", 5, True),\n",
    "    (\"Smoke Pellets\", 0, False),\n",
    "    (\"Tear Gas Grenades\", 2, True),\n",
    "    (\"Night Vision Goggles\", 1, True),\n",
    "    (\"Bat Claw\", 0, False),\n",
    "    (\"Grapple Gun\", 3, True),\n",
    "    (\"Batsignal\", 0, False),\n",
    "    (\"Utility Belt\", 1, True),\n",
    "    (\"Batmobile Tires\", 4, True)\n",
    "]"
   ]
  },
  {
   "cell_type": "code",
   "execution_count": 2,
   "metadata": {},
   "outputs": [],
   "source": [
    "def sorter():\n",
    "    # these priorities follow a stack structure folloing LIFO\n",
    "    gadgets.sort(key=lambda ele: ele[0], reverse=False)\n",
    "    gadgets.sort(key=lambda ele: ele[1], reverse=True)\n",
    "    # top priority at the end\n",
    "    # gadgets.sort(key=lambda ele: ele[2], reverse=True)\n",
    "    # this sort will not matter anyways\n"
   ]
  },
  {
   "cell_type": "code",
   "execution_count": 3,
   "metadata": {},
   "outputs": [
    {
     "name": "stdout",
     "output_type": "stream",
     "text": [
      "('Batarangs', 5, True)\n",
      "('Batmobile Tires', 4, True)\n",
      "('Explosive Batarangs', 3, True)\n",
      "('Grapple Gun', 3, True)\n",
      "('Tear Gas Grenades', 2, True)\n",
      "('Night Vision Goggles', 1, True)\n",
      "('Utility Belt', 1, True)\n",
      "('Bat Claw', 0, False)\n",
      "('Batsignal', 0, False)\n",
      "('Smoke Pellets', 0, False)\n"
     ]
    }
   ],
   "source": [
    "def display():\n",
    "    for gadget in gadgets:\n",
    "        print(gadget)\n",
    "\n",
    "\n",
    "sorter()\n",
    "display()\n"
   ]
  }
 ],
 "metadata": {
  "kernelspec": {
   "display_name": "Python 3",
   "language": "python",
   "name": "python3"
  },
  "language_info": {
   "codemirror_mode": {
    "name": "ipython",
    "version": 3
   },
   "file_extension": ".py",
   "mimetype": "text/x-python",
   "name": "python",
   "nbconvert_exporter": "python",
   "pygments_lexer": "ipython3",
   "version": "3.12.4"
  }
 },
 "nbformat": 4,
 "nbformat_minor": 2
}
