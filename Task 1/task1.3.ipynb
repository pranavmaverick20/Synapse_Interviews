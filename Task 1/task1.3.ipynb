{
 "cells": [
  {
   "cell_type": "code",
   "execution_count": 1,
   "metadata": {},
   "outputs": [],
   "source": [
    "request_spending = {\n",
    "    \"Mahek\": {\n",
    "        \"balance\": 3000.00,\n",
    "        \"transactions\": [\n",
    "            {\"amount\": -9000.00, \"category\": \"Creatives\"},\n",
    "            {\"amount\": 7000.00, \"category\": \"Sponsor\"},\n",
    "            {\"amount\": -2000.00, \"category\": \"Prize-Money\"}\n",
    "        ]\n",
    "    },\n",
    "    \"Arham\": {\n",
    "        \"balance\": 5000.00,\n",
    "        \"transactions\": [\n",
    "            {\"amount\": 8000.00, \"category\": \"Stalls\"},\n",
    "            {\"amount\": 7500.00, \"category\": \"Seminars\"}\n",
    "        ]\n",
    "    },\n",
    "    \"Unnati\": {\n",
    "        \"balance\": 3500.00,\n",
    "        \"transactions\": [\n",
    "            {\"amount\": -5000.00, \"category\": \"Attraction\"},\n",
    "            {\"amount\": 2500.00, \"category\": \"Promo\"},\n",
    "            {\"amount\": -900.00, \"category\": \"Lighting\"},\n",
    "            {\"amount\": -3000.00, \"category\": \"Games\"}\n",
    "        ]\n",
    "    },\n",
    "    \"Gaurang\": {\n",
    "        \"balance\": 2000.00,\n",
    "        \"transactions\": [\n",
    "            {\"amount\": -1500.00, \"category\": \"Website\"},\n",
    "            {\"amount\": -1000.00, \"category\": \"C2C\"},\n",
    "            {\"amount\": -500.00, \"category\": \"Posters\"}\n",
    "        ]\n",
    "    }\n",
    "}\n"
   ]
  },
  {
   "cell_type": "code",
   "execution_count": 2,
   "metadata": {},
   "outputs": [],
   "source": [
    "def total_spending(request_spending, account_id, category):\n",
    "    out = 0\n",
    "    res = request_spending[account_id][\"transactions\"]\n",
    "    for key in res:\n",
    "        if (key[\"category\"] == category):\n",
    "            out = -float(key[\"amount\"])#here we calculate the total spending by the member\n",
    "            break\n",
    "    return out\n"
   ]
  },
  {
   "cell_type": "code",
   "execution_count": 3,
   "metadata": {},
   "outputs": [],
   "source": [
    "def account_balance(request_spending, account_id):\n",
    "    return request_spending[account_id][\"balance\"]#this returns the current balance \n"
   ]
  },
  {
   "cell_type": "code",
   "execution_count": 4,
   "metadata": {},
   "outputs": [],
   "source": [
    "def money_owed(request_spending, account_id):\n",
    "    owe=0\n",
    "    for acc in request_spending[account_id][\"transactions\"]:\n",
    "        owe-=acc[\"amount\"]\n",
    "    owe-=account_balance(request_spending,account_id)#this returns the total amount owed to the account based on spending and balance\n",
    "    return owe"
   ]
  }
 ],
 "metadata": {
  "kernelspec": {
   "display_name": "Python 3",
   "language": "python",
   "name": "python3"
  },
  "language_info": {
   "codemirror_mode": {
    "name": "ipython",
    "version": 3
   },
   "file_extension": ".py",
   "mimetype": "text/x-python",
   "name": "python",
   "nbconvert_exporter": "python",
   "pygments_lexer": "ipython3",
   "version": "3.12.4"
  }
 },
 "nbformat": 4,
 "nbformat_minor": 2
}
