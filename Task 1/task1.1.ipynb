{
 "cells": [
  {
   "cell_type": "code",
   "execution_count": 1,
   "metadata": {},
   "outputs": [],
   "source": [
    "from itertools import combinations\n",
    "# this is a dictionary of sets\n",
    "DJS = {\n",
    "    \"Kevin\": {\"Halsey\", \"Taylor Swift\", \"Mitski\", \"Joji\",\n",
    "              \"Shawn Mendes\", \"Sabrina Carpenter\", \"Nicky Minaj\",\n",
    "              \"Conan Gray\", \"One Direction\", \"Justin Bieber\"},\n",
    "\n",
    "    \"Stuart\": {\"Kendrick Lamar\", \"Steve Lacy\", \"Tyler the Creator\",\n",
    "               \"Joji\", \"TheWeeknd\", \"Coldplay\", \"Kanye West\",\n",
    "               \"Travis Scott\", \"Frank Ocean\", \"Brent Faiyaz\"},\n",
    "\n",
    "    \"Bob\": {\"Conan Gray\", \"Joji\", \"Dove Cameron\", \"Mitski\",\n",
    "            \"Arctic Monkeys\", \"Steve Lacy\", \"Kendrick Lamar\",\n",
    "            \"Isabel LaRosa\", \"Shawn Mendes\", \"Coldplay\"},\n",
    "\n",
    "    \"Edith\": {\"Metallica\", \"Billie Eilish\", \"TheWeeknd\", \"Mitski\",\n",
    "              \"NF\", \"Conan Gray\", \"Kendrick Lamar\", \"Nicky Minaj\",\n",
    "              \"Kanye West\", \"Coldplay\"},\n",
    "}\n",
    "\n",
    "\n",
    "def overlap(set1, set2):\n",
    "    return (len(set1.intersection(set2))*100)/len(set1)#this function directly returns overlap %\n",
    "\n",
    "\n",
    "combs = list(combinations(DJS, 2))\n",
    "# returns all possible combinations of iterable DJS\n",
    "res = {}"
   ]
  },
  {
   "cell_type": "code",
   "execution_count": 2,
   "metadata": {},
   "outputs": [
    {
     "name": "stdout",
     "output_type": "stream",
     "text": [
      "Overlap between: -\n",
      "\n",
      "Kevin and Bob : 40.0%\n",
      "Stuart and Bob : 40.0%\n",
      "Stuart and Edith : 40.0%\n",
      "Bob and Edith : 40.0%\n",
      "Kevin and Edith : 30.0%\n",
      "Kevin and Stuart : 10.0%\n",
      "\n",
      "The following can work together: -\n",
      "\n",
      "Kevin and Bob\n",
      "Stuart and Bob\n",
      "Stuart and Edith\n",
      "Bob and Edith\n",
      "Kevin and Edith\n"
     ]
    }
   ],
   "source": [
    "for comb in combs:\n",
    "    res[comb] = overlap(DJS[comb[0]], DJS[comb[1]])\n",
    "res = list(res.items())\n",
    "res.sort(key=lambda x: x[1], reverse=True)\n",
    "print(\"Overlap between: -\\n\")\n",
    "worktog = []\n",
    "for key in res:\n",
    "    print(f\"{key[0][0]} and {key[0][1]} : {key[1]}%\")\n",
    "    if (key[1] >= 30):\n",
    "        worktog.append(f\"{key[0][0]} and {key[0][1]}\")\n",
    "print(\"\\nThe following can work together: -\\n\")\n",
    "for i in worktog:\n",
    "    print(i)\n"
   ]
  }
 ],
 "metadata": {
  "kernelspec": {
   "display_name": "Python 3",
   "language": "python",
   "name": "python3"
  },
  "language_info": {
   "codemirror_mode": {
    "name": "ipython",
    "version": 3
   },
   "file_extension": ".py",
   "mimetype": "text/x-python",
   "name": "python",
   "nbconvert_exporter": "python",
   "pygments_lexer": "ipython3",
   "version": "3.12.4"
  }
 },
 "nbformat": 4,
 "nbformat_minor": 2
}
